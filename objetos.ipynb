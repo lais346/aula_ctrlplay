{
 "cells": [
  {
   "cell_type": "code",
   "execution_count": 6,
   "id": "7d3e5e6e",
   "metadata": {},
   "outputs": [
    {
     "name": "stdout",
     "output_type": "stream",
     "text": [
      "<class '__main__.Casa'>\n",
      "<bound method Casa.enderecoCompleto of <__main__.Casa object at 0x000001968D0E7E50>>\n"
     ]
    }
   ],
   "source": [
    "class Casa() :\n",
    "    rua = \"rua bahia\"\n",
    "    bairro = \"centro\"\n",
    "    cep = \"60826185137\"\n",
    "    \n",
    "    def enderecoCompleto(self) :\n",
    "        return \"Endereco completo:\"+self.rua+\",\"+self.bairro+\" \"+self.cep\n",
    "casa1 = Casa()\n",
    "print(type(casa1))\n",
    "print(casa1.enderecoCompleto)"
   ]
  },
  {
   "cell_type": "code",
   "execution_count": 21,
   "id": "464cd844",
   "metadata": {},
   "outputs": [
    {
     "name": "stdout",
     "output_type": "stream",
     "text": [
      "pernambuco\n",
      "santa rosa\n",
      "5245896325\n",
      "Endereco completo:pernambuco,santa rosa, 5245896325\n"
     ]
    }
   ],
   "source": [
    "class Casa():\n",
    "    def __init__(self, rua, bairro, cep):\n",
    "        self.rua = rua\n",
    "        self.bairro = bairro\n",
    "        self.cep = cep\n",
    "    def enderecoCompleto(self) :\n",
    "        return \"Endereco completo:\"+self.rua+\",\"+self.bairro+\", \"+self.cep\n",
    "rua = input()\n",
    "bairro = input()\n",
    "cep = input()\n",
    "\n",
    "casa1 = Casa(rua = rua, bairro = bairro, cep = cep)\n",
    "print(casa1.enderecoCompleto())\n"
   ]
  },
  {
   "cell_type": "code",
   "execution_count": null,
   "id": "356dc8be",
   "metadata": {},
   "outputs": [],
   "source": []
  }
 ],
 "metadata": {
  "kernelspec": {
   "display_name": "Python 3 (ipykernel)",
   "language": "python",
   "name": "python3"
  },
  "language_info": {
   "codemirror_mode": {
    "name": "ipython",
    "version": 3
   },
   "file_extension": ".py",
   "mimetype": "text/x-python",
   "name": "python",
   "nbconvert_exporter": "python",
   "pygments_lexer": "ipython3",
   "version": "3.9.7"
  }
 },
 "nbformat": 4,
 "nbformat_minor": 5
}
